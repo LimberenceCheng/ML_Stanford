{
 "cells": [
  {
   "cell_type": "markdown",
   "metadata": {},
   "source": [
    "# Linear regression"
   ]
  },
  {
   "cell_type": "markdown",
   "metadata": {},
   "source": [
    "This exercise is described in [ex1.pdf](data/ml-ex1/ex1.pdf)."
   ]
  },
  {
   "cell_type": "code",
   "execution_count": 1,
   "metadata": {
    "collapsed": true
   },
   "outputs": [],
   "source": [
    "import numpy as np\n",
    "import matplotlib.pyplot as plt\n",
    "import matplotlib.ticker as ticker\n",
    "\n",
    "from mpl_toolkits.mplot3d import Axes3D\n",
    "from sklearn.linear_model import LinearRegression\n",
    "from sklearn.pipeline import Pipeline\n",
    "from sklearn.preprocessing import StandardScaler\n",
    "\n",
    "%matplotlib inline"
   ]
  },
  {
   "cell_type": "markdown",
   "metadata": {},
   "source": [
    "## Linear regression with one variable"
   ]
  },
  {
   "cell_type": "code",
   "execution_count": 2,
   "metadata": {
    "collapsed": true
   },
   "outputs": [],
   "source": [
    "# Load data from CSV file\n",
    "# - column 1: population (x)\n",
    "# - column 2: profit (y)\n",
    "data = np.loadtxt('data/ml-ex1/ex1data1.txt', delimiter=',')"
   ]
  },
  {
   "cell_type": "code",
   "execution_count": 3,
   "metadata": {
    "collapsed": true
   },
   "outputs": [],
   "source": [
    "# Separate features (x) from target (y)\n",
    "X, y = np.hsplit(data, 2)"
   ]
  },
  {
   "cell_type": "code",
   "execution_count": 4,
   "metadata": {
    "collapsed": true
   },
   "outputs": [],
   "source": [
    "# Number of samples\n",
    "m = y.size"
   ]
  },
  {
   "cell_type": "code",
   "execution_count": 5,
   "metadata": {
    "collapsed": false
   },
   "outputs": [
    {
     "data": {
      "text/plain": [
       "LinearRegression(copy_X=True, fit_intercept=True, n_jobs=1, normalize=False)"
      ]
     },
     "execution_count": 5,
     "metadata": {},
     "output_type": "execute_result"
    }
   ],
   "source": [
    "# Fit a linear regression model (without regularization)\n",
    "model = LinearRegression()\n",
    "model.fit(X, y)"
   ]
  },
  {
   "cell_type": "code",
   "execution_count": 6,
   "metadata": {
    "collapsed": false
   },
   "outputs": [
    {
     "data": {
      "text/plain": [
       "(array([-3.89578088]), array([ 1.19303364]))"
      ]
     },
     "execution_count": 6,
     "metadata": {},
     "output_type": "execute_result"
    }
   ],
   "source": [
    "# Obtain coefficients theta0 and theta1 from model\n",
    "theta0, theta1 = model.intercept_, model.coef_[0]\n",
    "theta0, theta1"
   ]
  },
  {
   "cell_type": "code",
   "execution_count": 7,
   "metadata": {
    "collapsed": false
   },
   "outputs": [
    {
     "data": {
      "image/png": "[encoded data removed]",
      "text/plain": [
       "<matplotlib.figure.Figure at 0x1a09e3848d0>"
      ]
     },
     "metadata": {},
     "output_type": "display_data"
    }
   ],
   "source": [
    "# Plot data and regression line\n",
    "plt.plot(X, y, 'bx', label='Data')\n",
    "plt.plot(X, model.predict(X), 'r-', label='Regression')\n",
    "plt.xlabel('Population')\n",
    "plt.ylabel('Profit')\n",
    "plt.legend()\n",
    "plt.show()"
   ]
  },
  {
   "cell_type": "code",
   "execution_count": 8,
   "metadata": {
    "collapsed": false
   },
   "outputs": [
    {
     "data": {
      "text/plain": [
       "8.9539427519503576"
      ]
     },
     "execution_count": 8,
     "metadata": {},
     "output_type": "execute_result"
    }
   ],
   "source": [
    "# Training mean squared error\n",
    "np.mean((model.predict(X) - y) ** 2)"
   ]
  },
  {
   "cell_type": "code",
   "execution_count": 9,
   "metadata": {
    "collapsed": false
   },
   "outputs": [
    {
     "data": {
      "text/plain": [
       "0.70203155378413973"
      ]
     },
     "execution_count": 9,
     "metadata": {},
     "output_type": "execute_result"
    }
   ],
   "source": [
    "# Training score\n",
    "model.score(X, y)"
   ]
  },
  {
   "cell_type": "code",
   "execution_count": 10,
   "metadata": {
    "collapsed": false
   },
   "outputs": [
    {
     "data": {
      "text/plain": [
       "array([[  2798.36876352],\n",
       "       [ 44554.54631015]])"
      ]
     },
     "execution_count": 10,
     "metadata": {},
     "output_type": "execute_result"
    }
   ],
   "source": [
    "# Predict profit for populations of 35.000 and 70.000 \n",
    "model.predict(np.array([[3.5], [7.0]])) * 10000"
   ]
  },
  {
   "cell_type": "markdown",
   "metadata": {},
   "source": [
    "See also [this Stackoverflow entry](https://stackoverflow.com/questions/34170618/normal-equation-and-numpy-least-squares-solve-methods-difference-in-regress) for the following calculations:"
   ]
  },
  {
   "cell_type": "code",
   "execution_count": 11,
   "metadata": {
    "collapsed": true
   },
   "outputs": [],
   "source": [
    "# LinearRegression above internally added a column vector of 1s.\n",
    "# For the following calculations, this must be done explicitly.\n",
    "X = np.c_[np.ones(m), X]"
   ]
  },
  {
   "cell_type": "code",
   "execution_count": 12,
   "metadata": {
    "collapsed": false
   },
   "outputs": [
    {
     "data": {
      "text/plain": [
       "array([[-3.89578088],\n",
       "       [ 1.19303364]])"
      ]
     },
     "execution_count": 12,
     "metadata": {},
     "output_type": "execute_result"
    }
   ],
   "source": [
    "# Compute least-squares solution with np.linalg.lstsq. \n",
    "# This is what LinearRegression actually does under the hood.\n",
    "Theta = np.linalg.lstsq(X, y)[0]\n",
    "Theta"
   ]
  },
  {
   "cell_type": "code",
   "execution_count": 13,
   "metadata": {
    "collapsed": false
   },
   "outputs": [
    {
     "data": {
      "text/plain": [
       "array([[-3.89578088],\n",
       "       [ 1.19303364]])"
      ]
     },
     "execution_count": 13,
     "metadata": {},
     "output_type": "execute_result"
    }
   ],
   "source": [
    "# Solve analytically (without explicit inverse)\n",
    "Theta = np.linalg.solve(X.T.dot(X), X.T.dot(y))\n",
    "Theta"
   ]
  },
  {
   "cell_type": "code",
   "execution_count": 14,
   "metadata": {
    "collapsed": false
   },
   "outputs": [
    {
     "data": {
      "text/plain": [
       "array([[-3.89578088],\n",
       "       [ 1.19303364]])"
      ]
     },
     "execution_count": 14,
     "metadata": {},
     "output_type": "execute_result"
    }
   ],
   "source": [
    "# Solve normal equation (explicit inverse)\n",
    "Theta = np.linalg.inv(X.T.dot(X)).dot(X.T).dot(y)\n",
    "Theta"
   ]
  },
  {
   "cell_type": "code",
   "execution_count": 15,
   "metadata": {
    "collapsed": false
   },
   "outputs": [
    {
     "data": {
      "text/plain": [
       "array([[-3.89578088],\n",
       "       [ 1.19303364]])"
      ]
     },
     "execution_count": 15,
     "metadata": {},
     "output_type": "execute_result"
    }
   ],
   "source": [
    "# Solve normal equation (explicit pseudo-inverse)\n",
    "Theta = np.linalg.pinv(X.T.dot(X)).dot(X.T).dot(y)\n",
    "Theta"
   ]
  },
  {
   "cell_type": "code",
   "execution_count": 16,
   "metadata": {
    "collapsed": true
   },
   "outputs": [],
   "source": [
    "# Cost function (mean squared error)\n",
    "def cost(X, y, Theta):\n",
    "    diff = X.dot(Theta) - y\n",
    "    return np.sum(diff * diff, axis=0) / y.size"
   ]
  },
  {
   "cell_type": "code",
   "execution_count": 17,
   "metadata": {
    "collapsed": false
   },
   "outputs": [
    {
     "data": {
      "image/png": "[encoded data removed]",
      "text/plain": [
       "<matplotlib.figure.Figure at 0x1a09e3846d8>"
      ]
     },
     "metadata": {},
     "output_type": "display_data"
    }
   ],
   "source": [
    "# Create a 50*50 grid for Theta0 and Theta1 ranges\n",
    "Theta_grid = np.mgrid[-10:10:50j, -1:4:50j]\n",
    "\n",
    "# Theta values in an array of shape (2500,2)\n",
    "Thetas = np.c_[Theta_grid[0].ravel(), Theta_grid[1].ravel()]\n",
    "\n",
    "# Compute costs on grid points\n",
    "costs = cost(X, y, Thetas.T)\n",
    "\n",
    "# Cost values reshaped to grid\n",
    "cost_grid = costs.reshape(Theta_grid[0].shape)\n",
    "\n",
    "# Contour plot of cost function\n",
    "plt.contour(Theta_grid[0], Theta_grid[1], cost_grid, levels=[20, 40, 80, 160, 320, 640, 1280])\n",
    "\n",
    "# Plot optmimum\n",
    "plt.plot(Theta[0], Theta[1], 'rx')\n",
    "\n",
    "# Title and axis labels\n",
    "plt.xlabel('Theta0')\n",
    "plt.xlabel('Theta1')\n",
    "plt.title('Cost function')\n",
    "plt.show()"
   ]
  },
  {
   "cell_type": "markdown",
   "metadata": {},
   "source": [
    "## Linear regression with multiple variables"
   ]
  },
  {
   "cell_type": "code",
   "execution_count": 18,
   "metadata": {
    "collapsed": true
   },
   "outputs": [],
   "source": [
    "# Load data from CSV file\n",
    "# - column 1: house size in feet**2 (x1)\n",
    "# - column 2: number of bedrooms (x2)\n",
    "# - column 3: house price (y)\n",
    "data = np.loadtxt('data/ml-ex1/ex1data2.txt', delimiter=',')"
   ]
  },
  {
   "cell_type": "code",
   "execution_count": 19,
   "metadata": {
    "collapsed": true
   },
   "outputs": [],
   "source": [
    "# Separate features (x1, x2) from target (y)\n",
    "X, y = np.hsplit(data, np.array([2]))"
   ]
  },
  {
   "cell_type": "code",
   "execution_count": 20,
   "metadata": {
    "collapsed": true
   },
   "outputs": [],
   "source": [
    "# Number of samples\n",
    "m = y.size"
   ]
  },
  {
   "cell_type": "code",
   "execution_count": 21,
   "metadata": {
    "collapsed": true
   },
   "outputs": [],
   "source": [
    "# Pipeline components\n",
    "scaler = StandardScaler()\n",
    "regr = LinearRegression()\n",
    "\n",
    "# Pipeline of feature scaler and linear regressor\n",
    "model = Pipeline([('scaler', scaler), ('regr', regr)])"
   ]
  },
  {
   "cell_type": "code",
   "execution_count": 22,
   "metadata": {
    "collapsed": false
   },
   "outputs": [
    {
     "data": {
      "text/plain": [
       "Pipeline(memory=None,\n",
       "     steps=[('scaler', StandardScaler(copy=True, with_mean=True, with_std=True)), ('regr', LinearRegression(copy_X=True, fit_intercept=True, n_jobs=1, normalize=False))])"
      ]
     },
     "execution_count": 22,
     "metadata": {},
     "output_type": "execute_result"
    }
   ],
   "source": [
    "# Run linear regression on scaled features\n",
    "model.fit(X, y)"
   ]
  },
  {
   "cell_type": "code",
   "execution_count": 23,
   "metadata": {
    "collapsed": false,
    "scrolled": false
   },
   "outputs": [
    {
     "ename": "SyntaxError",
     "evalue": "invalid syntax (<ipython-input-23-0b3dd502a012>, line 15)",
     "output_type": "error",
     "traceback": [
      "\u001b[0;36m  File \u001b[0;32m\"<ipython-input-23-0b3dd502a012>\"\u001b[0;36m, line \u001b[0;32m15\u001b[0m\n\u001b[0;31m    sp.set_title(f'angle = {view_angle}')\u001b[0m\n\u001b[0m                                       ^\u001b[0m\n\u001b[0;31mSyntaxError\u001b[0m\u001b[0;31m:\u001b[0m invalid syntax\n"
     ]
    }
   ],
   "source": [
    "# Create a grid from feature min and max values\n",
    "grid_range = np.vstack([X.min(axis=0), X.max(axis=0)])\n",
    "grid = np.meshgrid(grid_range[:,0], grid_range[:,1])\n",
    "\n",
    "# Compute predictions from grid values\n",
    "X_grid = np.c_[grid[0].ravel(), grid[1].ravel()]\n",
    "y_grid = model.predict(X_grid).reshape(grid[0].shape)\n",
    "\n",
    "def plot_data_and_regression(fig, fignum, view_angle):\n",
    "    sp = fig.add_subplot(2, 1, fignum, projection='3d')\n",
    "    sp.view_init(view_angle, 90)\n",
    "    sp.set_xlabel('Square feet')\n",
    "    sp.set_ylabel('Bedrooms')\n",
    "    sp.set_zlabel('Price')\n",
    "    sp.set_title(f'angle = {view_angle}')\n",
    "    # Customize tick locators\n",
    "    sp.yaxis.set_major_locator(ticker.MultipleLocator(1.00))\n",
    "    sp.zaxis.set_major_locator(ticker.MultipleLocator(200000))\n",
    "    # Plot samples\n",
    "    sp.scatter(X[:,0], X[:,1], y)\n",
    "    # Plot regression area\n",
    "    sp.plot_surface(grid[0], grid[1], y_grid, color='y', alpha=0.2)\n",
    "\n",
    "# Create new figure\n",
    "fig = plt.figure(2, figsize=[9, 10])\n",
    " \n",
    "# Plot data and regression from two different angles\n",
    "plot_data_and_regression(fig, fignum=1, view_angle=20)\n",
    "plot_data_and_regression(fig, fignum=2, view_angle=75)"
   ]
  },
  {
   "cell_type": "code",
   "execution_count": 24,
   "metadata": {
    "collapsed": false
   },
   "outputs": [
    {
     "data": {
      "text/plain": [
       "4086560101.205658"
      ]
     },
     "execution_count": 24,
     "metadata": {},
     "output_type": "execute_result"
    }
   ],
   "source": [
    "# Training mean squared error\n",
    "np.mean((model.predict(X) - y) ** 2)"
   ]
  },
  {
   "cell_type": "code",
   "execution_count": 25,
   "metadata": {
    "collapsed": false
   },
   "outputs": [
    {
     "data": {
      "text/plain": [
       "0.7329450180289141"
      ]
     },
     "execution_count": 25,
     "metadata": {},
     "output_type": "execute_result"
    }
   ],
   "source": [
    "# Training score\n",
    "model.score(X, y)"
   ]
  },
  {
   "cell_type": "markdown",
   "metadata": {},
   "source": [
    "See also [this Stackoverflow entry](https://stackoverflow.com/questions/34170618/normal-equation-and-numpy-least-squares-solve-methods-difference-in-regress) for the following calculations:"
   ]
  },
  {
   "cell_type": "code",
   "execution_count": 26,
   "metadata": {
    "collapsed": true
   },
   "outputs": [],
   "source": [
    "# Add a column of 1s\n",
    "X = np.c_[np.ones(m), X]"
   ]
  },
  {
   "cell_type": "code",
   "execution_count": 27,
   "metadata": {
    "collapsed": false
   },
   "outputs": [
    {
     "data": {
      "text/plain": [
       "array([[ 89597.9095428 ],\n",
       "       [   139.21067402],\n",
       "       [ -8738.01911233]])"
      ]
     },
     "execution_count": 27,
     "metadata": {},
     "output_type": "execute_result"
    }
   ],
   "source": [
    "# Solve analytically (without explicit inverse)\n",
    "Theta = np.linalg.solve(X.T.dot(X), X.T.dot(y))\n",
    "Theta"
   ]
  },
  {
   "cell_type": "code",
   "execution_count": 28,
   "metadata": {
    "collapsed": false
   },
   "outputs": [
    {
     "data": {
      "text/plain": [
       "array([[ 89597.90954361],\n",
       "       [   139.21067402],\n",
       "       [ -8738.01911255]])"
      ]
     },
     "execution_count": 28,
     "metadata": {},
     "output_type": "execute_result"
    }
   ],
   "source": [
    "# Solve normal equation (explicit pseudo-inverse)\n",
    "Theta = np.linalg.pinv(X.T.dot(X)).dot(X.T).dot(y)\n",
    "Theta"
   ]
  },
  {
   "cell_type": "code",
   "execution_count": 29,
   "metadata": {
    "collapsed": false
   },
   "outputs": [
    {
     "data": {
      "text/plain": [
       "array([  4.08656010e+09])"
      ]
     },
     "execution_count": 29,
     "metadata": {},
     "output_type": "execute_result"
    }
   ],
   "source": [
    "# Compute cost of solution\n",
    "cost(X, y, Theta)"
   ]
  }
 ],
 "metadata": {
  "anaconda-cloud": {},
  "kernelspec": {
   "display_name": "Python [default]",
   "language": "python",
   "name": "python3"
  },
  "language_info": {
   "codemirror_mode": {
    "name": "ipython",
    "version": 3
   },
   "file_extension": ".py",
   "mimetype": "text/x-python",
   "name": "python",
   "nbconvert_exporter": "python",
   "pygments_lexer": "ipython3",
   "version": "3.5.2"
  }
 },
 "nbformat": 4,
 "nbformat_minor": 1
}
